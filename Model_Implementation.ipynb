{
  "nbformat": 4,
  "nbformat_minor": 0,
  "metadata": {
    "accelerator": "GPU",
    "colab": {
      "name": "Model_Implementation.ipynb",
      "provenance": [],
      "collapsed_sections": [],
      "mount_file_id": "1Vdy6-DvTyBgkKrmfd9WdUYgPWrS96M4-",
      "authorship_tag": "ABX9TyPK/xutcBk/0CNGJMClXyYZ"
    },
    "kernelspec": {
      "display_name": "Python 3",
      "name": "python3"
    },
    "language_info": {
      "name": "python"
    }
  },
  "cells": [
    {
      "cell_type": "markdown",
      "metadata": {
        "id": "DkncP7a0bDNV"
      },
      "source": [
        "### ***Contributed By:-***\n",
        "Divyanshi Bhojak\n",
        "\n",
        "Tarushi Jat \n",
        "### **Notebook III: Training Machine Learning Models.**\n",
        "\n",
        "****"
      ]
    },
    {
      "cell_type": "markdown",
      "metadata": {
        "id": "0Yzu3jyn59BS"
      },
      "source": [
        "### **Libraries Used**"
      ]
    },
    {
      "cell_type": "code",
      "metadata": {
        "colab": {
          "base_uri": "https://localhost:8080/"
        },
        "id": "N0_h9pgh59fw",
        "outputId": "01e06ce0-f91a-4b56-8c46-bd567c8cc2dd"
      },
      "source": [
        "import pandas as pd\n",
        "import numpy as np\n",
        "import seaborn as sns\n",
        "import matplotlib.pyplot as plt\n",
        "from itertools import chain\n",
        "from collections import Counter \n",
        "import scipy as sp\n",
        "from sklearn.ensemble import BaggingClassifier\n",
        "from sklearn.tree import DecisionTreeClassifier\n",
        "from sklearn.ensemble import RandomForestClassifier\n",
        "from sklearn.neighbors import KNeighborsClassifier\n",
        "from sklearn.pipeline import Pipeline\n",
        "from sklearn.ensemble import AdaBoostClassifier\n",
        "from sklearn.ensemble import VotingClassifier\n",
        "from sklearn.metrics import accuracy_score, confusion_matrix, classification_report, roc_auc_score\n",
        "from sklearn.feature_extraction.text import TfidfVectorizer\n",
        "from sklearn.model_selection import train_test_split\n",
        "from sklearn.externals import joblib\n",
        "import pickle\n",
        "!pip install imblearn\n",
        "from imblearn.over_sampling import SMOTE"
      ],
      "execution_count": null,
      "outputs": [
        {
          "output_type": "stream",
          "text": [
            "Requirement already satisfied: imblearn in /usr/local/lib/python3.7/dist-packages (0.0)\n",
            "Requirement already satisfied: imbalanced-learn in /usr/local/lib/python3.7/dist-packages (from imblearn) (0.4.3)\n",
            "Requirement already satisfied: scikit-learn>=0.20 in /usr/local/lib/python3.7/dist-packages (from imbalanced-learn->imblearn) (0.22.2.post1)\n",
            "Requirement already satisfied: numpy>=1.8.2 in /usr/local/lib/python3.7/dist-packages (from imbalanced-learn->imblearn) (1.19.5)\n",
            "Requirement already satisfied: scipy>=0.13.3 in /usr/local/lib/python3.7/dist-packages (from imbalanced-learn->imblearn) (1.4.1)\n",
            "Requirement already satisfied: joblib>=0.11 in /usr/local/lib/python3.7/dist-packages (from scikit-learn>=0.20->imbalanced-learn->imblearn) (1.0.1)\n"
          ],
          "name": "stdout"
        }
      ]
    },
    {
      "cell_type": "markdown",
      "metadata": {
        "id": "bggxwNg69vBY"
      },
      "source": [
        "### **Loading data that was created in NoteBook-II**"
      ]
    },
    {
      "cell_type": "code",
      "metadata": {
        "colab": {
          "base_uri": "https://localhost:8080/"
        },
        "id": "P75Lj0MuIrKl",
        "outputId": "1f6cfcfa-ae77-4925-a612-1beae926b201"
      },
      "source": [
        "from google.colab import drive\n",
        "drive.mount('/content/drive')"
      ],
      "execution_count": null,
      "outputs": [
        {
          "output_type": "stream",
          "text": [
            "Drive already mounted at /content/drive; to attempt to forcibly remount, call drive.mount(\"/content/drive\", force_remount=True).\n"
          ],
          "name": "stdout"
        }
      ]
    },
    {
      "cell_type": "code",
      "metadata": {
        "id": "hgEon5nGbt09"
      },
      "source": [
        "yelp = pd.read_csv(\"/content/drive/MyDrive/IT750/Extracted_yelpdata/Combine/yelp_load.csv\")"
      ],
      "execution_count": null,
      "outputs": []
    },
    {
      "cell_type": "markdown",
      "metadata": {
        "id": "-ySvYwK1VXLQ"
      },
      "source": [
        "**Searching out common words in true & fake reviews**"
      ]
    },
    {
      "cell_type": "code",
      "metadata": {
        "id": "Dc_NgafedNml"
      },
      "source": [
        "non_dec = yelp[yelp['Label']== 1]\n",
        "dec = yelp[yelp['Label'] == -1]\n",
        "non_dec_words = []\n",
        "\n",
        "for i in range(0,non_dec['Review'].count()):\n",
        "   non_dec_temp = non_dec['Review'].iloc[i].split()\n",
        "   non_dec_words.append(non_dec_temp)\n",
        "\n",
        "list1 = list(chain.from_iterable(non_dec_words))\n",
        "dec_words= dec['Review'].str.split(expand=True).stack()\n",
        "\n",
        "dec_most_common = Counter(list1).most_common()\n",
        "non_dec_most_common = Counter(dec_words).most_common()"
      ],
      "execution_count": null,
      "outputs": []
    },
    {
      "cell_type": "code",
      "metadata": {
        "id": "4LvS8PDV7g2L"
      },
      "source": [
        "deceptive = pd.DataFrame(dec_most_common)\n",
        "non_deceptive = pd.DataFrame(non_dec_most_common)\n",
        "non_deceptive = non_deceptive[0:23]\n",
        "deceptive = deceptive[0:23]\n",
        "same_words = list(set(deceptive.iloc[:,0]) & set(non_deceptive.iloc[:,0]))"
      ],
      "execution_count": null,
      "outputs": []
    },
    {
      "cell_type": "markdown",
      "metadata": {
        "id": "iToYuals7rwI"
      },
      "source": [
        "### **Method for Plotting Confusion Matrix**"
      ]
    },
    {
      "cell_type": "code",
      "metadata": {
        "id": "JjdGxS461ToR"
      },
      "source": [
        "def display_cm(y_test, model_pred):\n",
        "  CM = confusion_matrix(y_test, model_pred)\n",
        "  f, ax = plt.subplots(figsize=(5,5))\n",
        "  sns.heatmap(CM,annot = True, linewidths=0.5,linecolor=\"white\",fmt=\".0f\",ax=ax, cmap=plt.cm.copper)\n",
        "  plt.xlabel(\"Prediction(Ypred)\")\n",
        "  plt.ylabel(\"Ytrue\")\n",
        "  plt.show()"
      ],
      "execution_count": null,
      "outputs": []
    },
    {
      "cell_type": "markdown",
      "metadata": {
        "id": "t3SujIcU_0HA"
      },
      "source": [
        "### **Method for Displaying Performance Metrics**"
      ]
    },
    {
      "cell_type": "code",
      "metadata": {
        "id": "FmwomL4e_zvU"
      },
      "source": [
        "def display(y_test, model_pred):\n",
        "  #print(\"-----------------------------------------------------------\")\n",
        "  print(\"Accuracy Score :-\", accuracy_score(y_test, model_pred))\n",
        "  #print(\"-----------------------------------------------------------\")\n",
        "  print(\"roc_auc Score :-\", roc_auc_score(y_test, model_pred))\n",
        "  #print(\"-----------------------------------------------------------\")\n",
        "  print(\"Classification Report:-\")\n",
        "  print()\n",
        "  print(classification_report(y_test, model_pred))"
      ],
      "execution_count": null,
      "outputs": []
    },
    {
      "cell_type": "markdown",
      "metadata": {
        "id": "bs1xWs7_ZAgC"
      },
      "source": [
        "### **Spliting Dataset into Train and Test**"
      ]
    },
    {
      "cell_type": "code",
      "metadata": {
        "id": "wKrVVlN2cb6E"
      },
      "source": [
        "yelp_train =  yelp.drop(columns=['User_Id','Prod_Id','Date_x','Product_Name','compound'])\n",
        "yelp_train =  yelp_train.dropna()\n",
        "yelp = yelp.dropna()"
      ],
      "execution_count": null,
      "outputs": []
    },
    {
      "cell_type": "code",
      "metadata": {
        "id": "EP2CMvpUT4p9"
      },
      "source": [
        "all_Xtrain, all_Xtest, Y_train, Y_test = train_test_split(yelp_train, yelp['Label'], test_size=0.20, random_state=101)"
      ],
      "execution_count": null,
      "outputs": []
    },
    {
      "cell_type": "code",
      "metadata": {
        "id": "qffjo0t2Va-c"
      },
      "source": [
        "vectorizer = TfidfVectorizer(stop_words= same_words, ngram_range=(3,3), max_features= 15000)\n",
        "vectorize = vectorizer.fit(all_Xtrain['Review'])\n",
        "\n",
        "reviewVector_x_train = vectorize.transform(all_Xtrain['Review'])\n",
        "reviewVector_x_test = vectorize.transform(all_Xtest['Review'])"
      ],
      "execution_count": null,
      "outputs": []
    },
    {
      "cell_type": "code",
      "metadata": {
        "id": "1S4f_pCPVhH9"
      },
      "source": [
        "X_train = sp.sparse.hstack((reviewVector_x_train,all_Xtrain[['Rating','Avg_Prod_Rating','Avg_user_rating','Review_Len','user_total_reviews','neg','neu','pos','number_Cap_Words','number_digit_Words','noun_count']].values),format='csr')\n",
        "X_test = sp.sparse.hstack((reviewVector_x_test,all_Xtest[['Rating','Avg_Prod_Rating','Avg_user_rating','Review_Len','user_total_reviews','neg','neu','pos','number_Cap_Words','number_digit_Words','noun_count']].values),format='csr')"
      ],
      "execution_count": null,
      "outputs": []
    },
    {
      "cell_type": "markdown",
      "metadata": {
        "id": "CH8w48WF_cIR"
      },
      "source": [
        "## **Oversampling Technique**\n"
      ]
    },
    {
      "cell_type": "markdown",
      "metadata": {
        "id": "ZpJtHUDfUEeD"
      },
      "source": [
        "### **SMOTE**"
      ]
    },
    {
      "cell_type": "code",
      "metadata": {
        "id": "w_E2FvSla8GX",
        "colab": {
          "base_uri": "https://localhost:8080/"
        },
        "outputId": "2c1f3a01-c9bf-4974-93e3-10d249745d79"
      },
      "source": [
        "method = SMOTE(kind='regular')\n",
        "X_resampled, y_resampled = method.fit_sample(X_train, Y_train)"
      ],
      "execution_count": null,
      "outputs": [
        {
          "output_type": "stream",
          "text": [
            "/usr/local/lib/python3.7/dist-packages/sklearn/utils/deprecation.py:87: FutureWarning: Function safe_indexing is deprecated; safe_indexing is deprecated in version 0.22 and will be removed in version 0.24.\n",
            "  warnings.warn(msg, category=FutureWarning)\n"
          ],
          "name": "stderr"
        }
      ]
    },
    {
      "cell_type": "markdown",
      "metadata": {
        "id": "6ZfrfEWbCIId"
      },
      "source": [
        "### **1. Decision Tree with SMOTE**"
      ]
    },
    {
      "cell_type": "code",
      "metadata": {
        "id": "OEeFbVKFCGKE",
        "colab": {
          "base_uri": "https://localhost:8080/"
        },
        "outputId": "5fc4938a-a1e3-4d6c-f117-5bab4b752a54"
      },
      "source": [
        "decision_tree = DecisionTreeClassifier()\n",
        "decision_tree.fit(X_resampled, y_resampled)"
      ],
      "execution_count": null,
      "outputs": [
        {
          "output_type": "execute_result",
          "data": {
            "text/plain": [
              "DecisionTreeClassifier(ccp_alpha=0.0, class_weight=None, criterion='gini',\n",
              "                       max_depth=None, max_features=None, max_leaf_nodes=None,\n",
              "                       min_impurity_decrease=0.0, min_impurity_split=None,\n",
              "                       min_samples_leaf=1, min_samples_split=2,\n",
              "                       min_weight_fraction_leaf=0.0, presort='deprecated',\n",
              "                       random_state=None, splitter='best')"
            ]
          },
          "metadata": {
            "tags": []
          },
          "execution_count": 17
        }
      ]
    },
    {
      "cell_type": "code",
      "metadata": {
        "id": "nYINHxnvG3D9"
      },
      "source": [
        "d_pred = decision_tree.predict(X_test)"
      ],
      "execution_count": null,
      "outputs": []
    },
    {
      "cell_type": "code",
      "metadata": {
        "id": "hx4n-n4oHlal",
        "colab": {
          "base_uri": "https://localhost:8080/"
        },
        "outputId": "a8003b2a-2f87-4a5f-8054-f57d7b3401b2"
      },
      "source": [
        "display(Y_test, d_pred)"
      ],
      "execution_count": null,
      "outputs": [
        {
          "output_type": "stream",
          "text": [
            "Accuracy Score :- 0.8895967720527727\n",
            "roc_auc Score :- 0.8737112622660815\n",
            "Classification Report:-\n",
            "\n",
            "              precision    recall  f1-score   support\n",
            "\n",
            "          -1       0.84      0.83      0.83     25116\n",
            "           1       0.91      0.92      0.92     50226\n",
            "\n",
            "    accuracy                           0.89     75342\n",
            "   macro avg       0.88      0.87      0.88     75342\n",
            "weighted avg       0.89      0.89      0.89     75342\n",
            "\n"
          ],
          "name": "stdout"
        }
      ]
    },
    {
      "cell_type": "code",
      "metadata": {
        "id": "lkJmUacIHoio",
        "colab": {
          "base_uri": "https://localhost:8080/",
          "height": 334
        },
        "outputId": "fc618692-995b-4f97-b3f9-80e002d01da6"
      },
      "source": [
        "display_cm(Y_test, d_pred)"
      ],
      "execution_count": null,
      "outputs": [
        {
          "output_type": "display_data",
          "data": {
            "image/png": "[encoded data removed]",
            "text/plain": [
              "<Figure size 360x360 with 2 Axes>"
            ]
          },
          "metadata": {
            "tags": [],
            "needs_background": "light"
          }
        }
      ]
    },
    {
      "cell_type": "markdown",
      "metadata": {
        "id": "tFwqkXu5H1bD"
      },
      "source": [
        "### **2. Bagging with SMOTE**"
      ]
    },
    {
      "cell_type": "code",
      "metadata": {
        "id": "3HtzFwIHH40n",
        "colab": {
          "base_uri": "https://localhost:8080/"
        },
        "outputId": "98acb5c4-7c6c-4c06-915f-424d63ddd5f5"
      },
      "source": [
        "bag = BaggingClassifier()\n",
        "bag.fit(X_resampled, y_resampled)"
      ],
      "execution_count": null,
      "outputs": [
        {
          "output_type": "execute_result",
          "data": {
            "text/plain": [
              "BaggingClassifier(base_estimator=None, bootstrap=True, bootstrap_features=False,\n",
              "                  max_features=1.0, max_samples=1.0, n_estimators=10,\n",
              "                  n_jobs=None, oob_score=False, random_state=None, verbose=0,\n",
              "                  warm_start=False)"
            ]
          },
          "metadata": {
            "tags": []
          },
          "execution_count": 21
        }
      ]
    },
    {
      "cell_type": "code",
      "metadata": {
        "id": "btRQhEpeH_32"
      },
      "source": [
        "bag_pred = bag.predict(X_test)"
      ],
      "execution_count": null,
      "outputs": []
    },
    {
      "cell_type": "code",
      "metadata": {
        "colab": {
          "base_uri": "https://localhost:8080/"
        },
        "id": "g2ZylSq-jMtb",
        "outputId": "169903b5-43c2-41ab-ff22-403996497916"
      },
      "source": [
        "display(Y_test, bag_pred)"
      ],
      "execution_count": null,
      "outputs": [
        {
          "output_type": "stream",
          "text": [
            "Accuracy Score :- 0.8947068036420589\n",
            "roc_auc Score :- 0.8760410921611858\n",
            "Classification Report:-\n",
            "\n",
            "              precision    recall  f1-score   support\n",
            "\n",
            "          -1       0.86      0.82      0.84     25116\n",
            "           1       0.91      0.93      0.92     50226\n",
            "\n",
            "    accuracy                           0.89     75342\n",
            "   macro avg       0.88      0.88      0.88     75342\n",
            "weighted avg       0.89      0.89      0.89     75342\n",
            "\n"
          ],
          "name": "stdout"
        }
      ]
    },
    {
      "cell_type": "code",
      "metadata": {
        "colab": {
          "base_uri": "https://localhost:8080/",
          "height": 334
        },
        "id": "gkRDj81ijMtd",
        "outputId": "33afd143-bf86-41a7-bf46-5594107a3364"
      },
      "source": [
        "display_cm(Y_test, bag_pred)"
      ],
      "execution_count": null,
      "outputs": [
        {
          "output_type": "display_data",
          "data": {
            "image/png": "[encoded data removed]",
            "text/plain": [
              "<Figure size 360x360 with 2 Axes>"
            ]
          },
          "metadata": {
            "tags": [],
            "needs_background": "light"
          }
        }
      ]
    },
    {
      "cell_type": "markdown",
      "metadata": {
        "id": "PBbEPgqpOwwi"
      },
      "source": [
        "### **3. Random Forest with SMOTE**"
      ]
    },
    {
      "cell_type": "code",
      "metadata": {
        "id": "LC57q-HQQ6hX"
      },
      "source": [
        "rf = RandomForestClassifier(criterion='entropy', min_samples_leaf=100, min_samples_split=20)\n",
        "rf = rf.fit(X_resampled, y_resampled)"
      ],
      "execution_count": null,
      "outputs": []
    },
    {
      "cell_type": "code",
      "metadata": {
        "id": "4tXpIFwOfNWb"
      },
      "source": [
        "y_pred_test = rf.predict(X_test)"
      ],
      "execution_count": null,
      "outputs": []
    },
    {
      "cell_type": "code",
      "metadata": {
        "id": "0OOWWk0Ke_NC",
        "colab": {
          "base_uri": "https://localhost:8080/"
        },
        "outputId": "808d4c7f-0b7d-45b7-b176-f07493a6a4ea"
      },
      "source": [
        "display(Y_test, bag_pred)"
      ],
      "execution_count": null,
      "outputs": [
        {
          "output_type": "stream",
          "text": [
            "Accuracy Score :- 0.9067850601258263\n",
            "roc_auc Score :- 0.8878470698015919\n",
            "Classification Report:-\n",
            "\n",
            "              precision    recall  f1-score   support\n",
            "\n",
            "          -1       0.88      0.83      0.86     25116\n",
            "           1       0.92      0.94      0.93     50226\n",
            "\n",
            "    accuracy                           0.91     75342\n",
            "   macro avg       0.90      0.89      0.89     75342\n",
            "weighted avg       0.91      0.91      0.91     75342\n",
            "\n"
          ],
          "name": "stdout"
        }
      ]
    },
    {
      "cell_type": "code",
      "metadata": {
        "id": "raRWTw8UfWeB",
        "colab": {
          "base_uri": "https://localhost:8080/",
          "height": 334
        },
        "outputId": "43d45a40-b3f1-4d10-d1ce-f886caa29e24"
      },
      "source": [
        "display_cm(Y_test, y_pred_test)"
      ],
      "execution_count": null,
      "outputs": [
        {
          "output_type": "display_data",
          "data": {
            "image/png": "[encoded data removed]",
            "text/plain": [
              "<Figure size 360x360 with 2 Axes>"
            ]
          },
          "metadata": {
            "tags": [],
            "needs_background": "light"
          }
        }
      ]
    },
    {
      "cell_type": "markdown",
      "metadata": {
        "id": "ktKNPHRBwNIm"
      },
      "source": [
        "### **4. KNN**"
      ]
    },
    {
      "cell_type": "code",
      "metadata": {
        "id": "pHj9BBkdnLfA",
        "colab": {
          "base_uri": "https://localhost:8080/"
        },
        "outputId": "82647e4c-cb1c-4d88-9402-ebc83ab91686"
      },
      "source": [
        "knn = KNeighborsClassifier()\n",
        "knn.fit(X_resampled, y_resampled)"
      ],
      "execution_count": null,
      "outputs": [
        {
          "output_type": "execute_result",
          "data": {
            "text/plain": [
              "KNeighborsClassifier(algorithm='auto', leaf_size=30, metric='minkowski',\n",
              "                     metric_params=None, n_jobs=None, n_neighbors=5, p=2,\n",
              "                     weights='uniform')"
            ]
          },
          "metadata": {
            "tags": []
          },
          "execution_count": 32
        }
      ]
    },
    {
      "cell_type": "code",
      "metadata": {
        "id": "h8oF4DhcdW1F"
      },
      "source": [
        "knn_pred = knn.predict(X_test)"
      ],
      "execution_count": null,
      "outputs": []
    },
    {
      "cell_type": "code",
      "metadata": {
        "id": "Kch428CBdW1I",
        "colab": {
          "base_uri": "https://localhost:8080/"
        },
        "outputId": "d93411f1-94f4-4e5e-c2ad-7ddaa16f8369"
      },
      "source": [
        "display(Y_test, knn_pred)"
      ],
      "execution_count": null,
      "outputs": [
        {
          "output_type": "stream",
          "text": [
            "Accuracy Score :- 0.8091370019378301\n",
            "roc_auc Score :- 0.8092635501579682\n",
            "Classification Report:-\n",
            "\n",
            "              precision    recall  f1-score   support\n",
            "\n",
            "          -1       0.68      0.81      0.74     25116\n",
            "           1       0.89      0.81      0.85     50226\n",
            "\n",
            "    accuracy                           0.81     75342\n",
            "   macro avg       0.79      0.81      0.79     75342\n",
            "weighted avg       0.82      0.81      0.81     75342\n",
            "\n"
          ],
          "name": "stdout"
        }
      ]
    },
    {
      "cell_type": "code",
      "metadata": {
        "id": "Zfmkb82VdW1K",
        "colab": {
          "base_uri": "https://localhost:8080/",
          "height": 334
        },
        "outputId": "b3c600ef-1e7c-4b1e-a6d3-c082fae7040d"
      },
      "source": [
        "display_cm(Y_test, knn_pred)"
      ],
      "execution_count": null,
      "outputs": [
        {
          "output_type": "display_data",
          "data": {
            "image/png": "[encoded data removed]",
            "text/plain": [
              "<Figure size 360x360 with 2 Axes>"
            ]
          },
          "metadata": {
            "tags": [],
            "needs_background": "light"
          }
        }
      ]
    },
    {
      "cell_type": "markdown",
      "metadata": {
        "id": "GMVynZVNwQJB"
      },
      "source": [
        "### **5. AdaBoost**"
      ]
    },
    {
      "cell_type": "code",
      "metadata": {
        "id": "oCGxDkpaUb8S",
        "colab": {
          "base_uri": "https://localhost:8080/"
        },
        "outputId": "bb95ef4d-d7da-4693-cc0e-07b9bd98662f"
      },
      "source": [
        "boost =  AdaBoostClassifier()\n",
        "boost.fit(X_resampled, y_resampled)"
      ],
      "execution_count": null,
      "outputs": [
        {
          "output_type": "execute_result",
          "data": {
            "text/plain": [
              "AdaBoostClassifier(algorithm='SAMME.R', base_estimator=None, learning_rate=1.0,\n",
              "                   n_estimators=50, random_state=None)"
            ]
          },
          "metadata": {
            "tags": []
          },
          "execution_count": 37
        }
      ]
    },
    {
      "cell_type": "code",
      "metadata": {
        "id": "EJGDQPl7Ub_p"
      },
      "source": [
        "boost_pred = boost.predict(X_test)"
      ],
      "execution_count": null,
      "outputs": []
    },
    {
      "cell_type": "code",
      "metadata": {
        "id": "zAOMOQlXWMjd",
        "colab": {
          "base_uri": "https://localhost:8080/"
        },
        "outputId": "1ce16478-fba6-4eee-a839-08fa4efa004a"
      },
      "source": [
        "display(Y_test, boost_pred)"
      ],
      "execution_count": null,
      "outputs": [
        {
          "output_type": "stream",
          "text": [
            "Accuracy Score :- 0.8590029465636697\n",
            "roc_auc Score :- 0.8445744465783888\n",
            "Classification Report:-\n",
            "\n",
            "              precision    recall  f1-score   support\n",
            "\n",
            "          -1       0.78      0.80      0.79     25116\n",
            "           1       0.90      0.89      0.89     50226\n",
            "\n",
            "    accuracy                           0.86     75342\n",
            "   macro avg       0.84      0.84      0.84     75342\n",
            "weighted avg       0.86      0.86      0.86     75342\n",
            "\n"
          ],
          "name": "stdout"
        }
      ]
    },
    {
      "cell_type": "code",
      "metadata": {
        "id": "fwKMO17dXVFJ",
        "colab": {
          "base_uri": "https://localhost:8080/",
          "height": 334
        },
        "outputId": "3271e121-48f3-474a-acca-a9ea1b023837"
      },
      "source": [
        "display_cm(Y_test, boost_pred)"
      ],
      "execution_count": null,
      "outputs": [
        {
          "output_type": "display_data",
          "data": {
            "image/png": "[encoded data removed]",
            "text/plain": [
              "<Figure size 360x360 with 2 Axes>"
            ]
          },
          "metadata": {
            "tags": [],
            "needs_background": "light"
          }
        }
      ]
    },
    {
      "cell_type": "markdown",
      "metadata": {
        "id": "j2dKdBXDky_-"
      },
      "source": [
        "### **6. Majority Voting Classifier**"
      ]
    },
    {
      "cell_type": "code",
      "metadata": {
        "id": "AgPdz63PCrdA"
      },
      "source": [
        "voting_classifier = VotingClassifier(estimators=[('DT', decision_tree), ('Bagging', bag), ('RF', rf), ('KNN', knn), ('AdaBoost', boost)], voting='hard')\n",
        "voting_classifier = voting_classifier.fit(X_resampled, y_resampled)\n",
        "vc_pred = voting_classifier.predict(X_test)"
      ],
      "execution_count": null,
      "outputs": []
    },
    {
      "cell_type": "code",
      "metadata": {
        "colab": {
          "base_uri": "https://localhost:8080/"
        },
        "id": "Crm7OO8CjF0A",
        "outputId": "9969b3c5-c559-4055-e943-c50b72dee2ae"
      },
      "source": [
        "display(Y_test, vc_pred)"
      ],
      "execution_count": null,
      "outputs": [
        {
          "output_type": "stream",
          "text": [
            "Accuracy Score :- 0.9067850601258263\n",
            "roc_auc Score :- 0.8878470698015919\n",
            "Classification Report:-\n",
            "\n",
            "              precision    recall  f1-score   support\n",
            "\n",
            "          -1       0.88      0.83      0.86     25116\n",
            "           1       0.92      0.94      0.93     50226\n",
            "\n",
            "    accuracy                           0.91     75342\n",
            "   macro avg       0.90      0.89      0.89     75342\n",
            "weighted avg       0.91      0.91      0.91     75342\n",
            "\n"
          ],
          "name": "stdout"
        }
      ]
    },
    {
      "cell_type": "code",
      "metadata": {
        "colab": {
          "base_uri": "https://localhost:8080/",
          "height": 334
        },
        "id": "uHwVERiojF0F",
        "outputId": "caa1c4f8-2917-445f-82ac-fb847fc0ae61"
      },
      "source": [
        "display_cm(Y_test, vc_pred)"
      ],
      "execution_count": null,
      "outputs": [
        {
          "output_type": "display_data",
          "data": {
            "image/png": "[encoded data removed]",
            "text/plain": [
              "<Figure size 360x360 with 2 Axes>"
            ]
          },
          "metadata": {
            "tags": [],
            "needs_background": "light"
          }
        }
      ]
    },
    {
      "cell_type": "markdown",
      "metadata": {
        "id": "VOswHim9eWdC"
      },
      "source": [
        "# **End.**"
      ]
    }
  ]
}