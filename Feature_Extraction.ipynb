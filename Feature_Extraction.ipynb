{
  "nbformat": 4,
  "nbformat_minor": 0,
  "metadata": {
    "colab": {
      "name": "Feature_Extraction.ipynb",
      "provenance": [],
      "collapsed_sections": [],
      "mount_file_id": "1KSiIXAbxaXsmgDEhloC99FphRF1qdRWz",
      "authorship_tag": "ABX9TyNFc50MqsVyQ44XtBlBaSHF"
    },
    "kernelspec": {
      "name": "python3",
      "display_name": "Python 3"
    },
    "language_info": {
      "name": "python"
    },
    "accelerator": "TPU"
  },
  "cells": [
    {
      "cell_type": "markdown",
      "metadata": {
        "id": "R5cQhR8LL7jg"
      },
      "source": [
        "### ***Contributed By:-***\n",
        "\n",
        "Divyanshi Bhojak\n",
        "\n",
        "Tarushi Jat\n",
        "\n",
        "\n",
        "\n",
        "### **Notebook II: Feature Extraction & Preprocessing of Yelp Dataset**\n",
        "\n",
        "****"
      ]
    },
    {
      "cell_type": "markdown",
      "metadata": {
        "id": "-yQOzlwWfbub"
      },
      "source": [
        "# **1. Necessary Library Import**"
      ]
    },
    {
      "cell_type": "code",
      "metadata": {
        "id": "zW-0qw7sgj9X",
        "colab": {
          "base_uri": "https://localhost:8080/"
        },
        "outputId": "6f7bc654-0ce9-4cc2-9354-03fe74ae6a73"
      },
      "source": [
        "import numpy as np \n",
        "import pandas as pd\n",
        "import nltk\n",
        "nltk.download('vader_lexicon')\n",
        "import re;\n",
        "nltk.download('brown')\n",
        "nltk.download('punkt')\n",
        "from textblob import TextBlob\n",
        "import warnings "
      ],
      "execution_count": null,
      "outputs": [
        {
          "output_type": "stream",
          "text": [
            "[nltk_data] Downloading package vader_lexicon to /root/nltk_data...\n",
            "[nltk_data]   Package vader_lexicon is already up-to-date!\n",
            "[nltk_data] Downloading package brown to /root/nltk_data...\n",
            "[nltk_data]   Package brown is already up-to-date!\n",
            "[nltk_data] Downloading package punkt to /root/nltk_data...\n",
            "[nltk_data]   Package punkt is already up-to-date!\n"
          ],
          "name": "stdout"
        }
      ]
    },
    {
      "cell_type": "markdown",
      "metadata": {
        "id": "ksk42IbagKuW"
      },
      "source": [
        "# **2. Data Loading**"
      ]
    },
    {
      "cell_type": "markdown",
      "metadata": {
        "id": "0aG2uSajTU7u"
      },
      "source": [
        "#  **Dataset: *YELP* Data**    \n",
        "\n",
        "The Yelp dataset is a subset of our businesses, reviews, and user data for use in personal, educational, and academic purposes. \n",
        "\n",
        "We are following data files from the YELP data directory:\n",
        "\n",
        "\n",
        "*   **metadata** file consists attributes like User id, Product id, Rating, Label and Date.\n",
        "\n",
        "*   **Product Mapping file**  consists attributes Product name and Product\n",
        "\n",
        "*   **Review_Content**  consists attributes like Review_id, Product_id, date and Review. \n",
        "\n",
        "\n",
        "\n",
        "\n",
        "\n"
      ]
    },
    {
      "cell_type": "markdown",
      "metadata": {
        "id": "wmH8UKUGh36w"
      },
      "source": [
        "2.1 Meta_data file"
      ]
    },
    {
      "cell_type": "code",
      "metadata": {
        "id": "Zhb3jtm3iBKY"
      },
      "source": [
        "metadata = pd.read_csv('/content/drive/MyDrive/Projects/Data/YelpNYC/metadata' , sep = '\\t', header = 0)\n",
        "metadata.columns = ['User_Id', 'Prod_Id', 'Rating', 'Label', 'Date']"
      ],
      "execution_count": null,
      "outputs": []
    },
    {
      "cell_type": "markdown",
      "metadata": {
        "id": "e4XbOnqcivCV"
      },
      "source": [
        " 2.2 Product_Mapping file"
      ]
    },
    {
      "cell_type": "code",
      "metadata": {
        "id": "XIF4au5Ki7dv"
      },
      "source": [
        "ProdIdMap =pd.read_csv(\"/content/drive/MyDrive/Projects/Data/YelpNYC/productIdMapping\", sep = '\\t', header = 0)\n",
        "ProdIdMap.columns = ['Product_Name', 'Prod_Id']"
      ],
      "execution_count": null,
      "outputs": []
    },
    {
      "cell_type": "markdown",
      "metadata": {
        "id": "zbXGAmzRjJfI"
      },
      "source": [
        " 2.3 Review_Content file"
      ]
    },
    {
      "cell_type": "code",
      "metadata": {
        "id": "e-rk2UgAjIKb"
      },
      "source": [
        "review = pd.read_csv(\"/content/drive/MyDrive/Projects/Data/YelpNYC/reviewContent\", sep = '\\t', header = 0)\n",
        "review.columns = ['User_Id', 'Prod_Id', 'Date', 'Review']"
      ],
      "execution_count": null,
      "outputs": []
    },
    {
      "cell_type": "markdown",
      "metadata": {
        "id": "tMtQCAIjh79C"
      },
      "source": [
        "# 3.**Data Pre-Processing**"
      ]
    },
    {
      "cell_type": "markdown",
      "metadata": {
        "id": "EulDHEcgjchY"
      },
      "source": [
        "3.1 Data Merging"
      ]
    },
    {
      "cell_type": "code",
      "metadata": {
        "id": "S8ol7WsrjcCZ"
      },
      "source": [
        "review_columns  = ['User_Id', 'Prod_Id']\n",
        "merge = review.merge(metadata, how = 'left', left_on = review_columns, right_on=review_columns)"
      ],
      "execution_count": null,
      "outputs": []
    },
    {
      "cell_type": "code",
      "metadata": {
        "id": "ovnWYjfekJgb",
        "colab": {
          "base_uri": "https://localhost:8080/",
          "height": 81
        },
        "outputId": "5c1e3a42-1016-49a3-daf7-6d87f1216f7e"
      },
      "source": [
        "yelp_load = pd.merge(merge, ProdIdMap, on = 'Prod_Id')\n",
        "yelp_load.drop(columns='Date_y', inplace=True)\n",
        "yelp_load.head(1)"
      ],
      "execution_count": null,
      "outputs": [
        {
          "output_type": "execute_result",
          "data": {
            "text/html": [
              "<div>\n",
              "<style scoped>\n",
              "    .dataframe tbody tr th:only-of-type {\n",
              "        vertical-align: middle;\n",
              "    }\n",
              "\n",
              "    .dataframe tbody tr th {\n",
              "        vertical-align: top;\n",
              "    }\n",
              "\n",
              "    .dataframe thead th {\n",
              "        text-align: right;\n",
              "    }\n",
              "</style>\n",
              "<table border=\"1\" class=\"dataframe\">\n",
              "  <thead>\n",
              "    <tr style=\"text-align: right;\">\n",
              "      <th></th>\n",
              "      <th>User_Id</th>\n",
              "      <th>Prod_Id</th>\n",
              "      <th>Date_x</th>\n",
              "      <th>Review</th>\n",
              "      <th>Rating</th>\n",
              "      <th>Label</th>\n",
              "      <th>Product_Name</th>\n",
              "    </tr>\n",
              "  </thead>\n",
              "  <tbody>\n",
              "    <tr>\n",
              "      <th>0</th>\n",
              "      <td>1133</td>\n",
              "      <td>1</td>\n",
              "      <td>2013-12-21</td>\n",
              "      <td>My wife and I took my parents there for lunch ...</td>\n",
              "      <td>1.0</td>\n",
              "      <td>-1</td>\n",
              "      <td>Peppino’s</td>\n",
              "    </tr>\n",
              "  </tbody>\n",
              "</table>\n",
              "</div>"
            ],
            "text/plain": [
              "   User_Id  Prod_Id      Date_x  ... Rating  Label  Product_Name\n",
              "0     1133        1  2013-12-21  ...    1.0     -1     Peppino’s\n",
              "\n",
              "[1 rows x 7 columns]"
            ]
          },
          "metadata": {
            "tags": []
          },
          "execution_count": 52
        }
      ]
    },
    {
      "cell_type": "markdown",
      "metadata": {
        "id": "BRz76UQlNMIj"
      },
      "source": [
        "3.2 Calculating Average Rating per Product Basis"
      ]
    },
    {
      "cell_type": "code",
      "metadata": {
        "id": "9voGu4PfkJkE"
      },
      "source": [
        "avg = yelp_load.groupby('Product_Name')['Rating'].mean() #average rating per product\n",
        "avg =  avg.to_frame() #convert data series to dataframe \n",
        "avg.reset_index(level=0, inplace=True)\n",
        "avg = avg.rename(columns={'Rating':'Avg_Prod_Rating'})"
      ],
      "execution_count": null,
      "outputs": []
    },
    {
      "cell_type": "code",
      "metadata": {
        "colab": {
          "base_uri": "https://localhost:8080/",
          "height": 81
        },
        "id": "XDB13u7plP-2",
        "outputId": "2561714a-7d8f-497e-b1e4-d07bf3da9536"
      },
      "source": [
        "avg.head(1)"
      ],
      "execution_count": null,
      "outputs": [
        {
          "output_type": "execute_result",
          "data": {
            "text/html": [
              "<div>\n",
              "<style scoped>\n",
              "    .dataframe tbody tr th:only-of-type {\n",
              "        vertical-align: middle;\n",
              "    }\n",
              "\n",
              "    .dataframe tbody tr th {\n",
              "        vertical-align: top;\n",
              "    }\n",
              "\n",
              "    .dataframe thead th {\n",
              "        text-align: right;\n",
              "    }\n",
              "</style>\n",
              "<table border=\"1\" class=\"dataframe\">\n",
              "  <thead>\n",
              "    <tr style=\"text-align: right;\">\n",
              "      <th></th>\n",
              "      <th>Product_Name</th>\n",
              "      <th>Avg_Prod_Rating</th>\n",
              "    </tr>\n",
              "  </thead>\n",
              "  <tbody>\n",
              "    <tr>\n",
              "      <th>0</th>\n",
              "      <td>10 Devoe</td>\n",
              "      <td>4.863636</td>\n",
              "    </tr>\n",
              "  </tbody>\n",
              "</table>\n",
              "</div>"
            ],
            "text/plain": [
              "  Product_Name  Avg_Prod_Rating\n",
              "0     10 Devoe         4.863636"
            ]
          },
          "metadata": {
            "tags": []
          },
          "execution_count": 54
        }
      ]
    },
    {
      "cell_type": "markdown",
      "metadata": {
        "id": "mP1eINklNwGa"
      },
      "source": [
        "3.2.1 Merging Average Product Rating Column to \"yelp_load.csv\" file"
      ]
    },
    {
      "cell_type": "code",
      "metadata": {
        "colab": {
          "base_uri": "https://localhost:8080/",
          "height": 81
        },
        "id": "kGgpK9zAN4Ia",
        "outputId": "cb5dccf0-5072-49a8-92fe-bae0e1205d33"
      },
      "source": [
        "yelp_load = yelp_load.merge(avg, left_on='Product_Name', right_on='Product_Name')\n",
        "yelp_load.head(1)"
      ],
      "execution_count": null,
      "outputs": [
        {
          "output_type": "execute_result",
          "data": {
            "text/html": [
              "<div>\n",
              "<style scoped>\n",
              "    .dataframe tbody tr th:only-of-type {\n",
              "        vertical-align: middle;\n",
              "    }\n",
              "\n",
              "    .dataframe tbody tr th {\n",
              "        vertical-align: top;\n",
              "    }\n",
              "\n",
              "    .dataframe thead th {\n",
              "        text-align: right;\n",
              "    }\n",
              "</style>\n",
              "<table border=\"1\" class=\"dataframe\">\n",
              "  <thead>\n",
              "    <tr style=\"text-align: right;\">\n",
              "      <th></th>\n",
              "      <th>User_Id</th>\n",
              "      <th>Prod_Id</th>\n",
              "      <th>Date_x</th>\n",
              "      <th>Review</th>\n",
              "      <th>Rating</th>\n",
              "      <th>Label</th>\n",
              "      <th>Product_Name</th>\n",
              "      <th>Avg_Prod_Rating</th>\n",
              "    </tr>\n",
              "  </thead>\n",
              "  <tbody>\n",
              "    <tr>\n",
              "      <th>0</th>\n",
              "      <td>1133</td>\n",
              "      <td>1</td>\n",
              "      <td>2013-12-21</td>\n",
              "      <td>My wife and I took my parents there for lunch ...</td>\n",
              "      <td>1.0</td>\n",
              "      <td>-1</td>\n",
              "      <td>Peppino’s</td>\n",
              "      <td>4.328063</td>\n",
              "    </tr>\n",
              "  </tbody>\n",
              "</table>\n",
              "</div>"
            ],
            "text/plain": [
              "   User_Id  Prod_Id      Date_x  ... Label  Product_Name  Avg_Prod_Rating\n",
              "0     1133        1  2013-12-21  ...    -1     Peppino’s         4.328063\n",
              "\n",
              "[1 rows x 8 columns]"
            ]
          },
          "metadata": {
            "tags": []
          },
          "execution_count": 55
        }
      ]
    },
    {
      "cell_type": "markdown",
      "metadata": {
        "id": "JqfRPJyoPRUu"
      },
      "source": [
        "3.3 Calculating Average Rating Per User Basis"
      ]
    },
    {
      "cell_type": "code",
      "metadata": {
        "colab": {
          "base_uri": "https://localhost:8080/",
          "height": 81
        },
        "id": "VwrOJgx7PXVW",
        "outputId": "b7dcd500-0ff7-4b76-f788-4cdfd7ca49fe"
      },
      "source": [
        "avg = yelp_load.groupby('User_Id')['Rating'].mean()\n",
        "avg = avg.to_frame()\n",
        "avg.reset_index(level=0, inplace=True)\n",
        "avg = avg.rename(columns={'Rating':'Avg_user_rating'})\n",
        "avg.head(1)"
      ],
      "execution_count": null,
      "outputs": [
        {
          "output_type": "execute_result",
          "data": {
            "text/html": [
              "<div>\n",
              "<style scoped>\n",
              "    .dataframe tbody tr th:only-of-type {\n",
              "        vertical-align: middle;\n",
              "    }\n",
              "\n",
              "    .dataframe tbody tr th {\n",
              "        vertical-align: top;\n",
              "    }\n",
              "\n",
              "    .dataframe thead th {\n",
              "        text-align: right;\n",
              "    }\n",
              "</style>\n",
              "<table border=\"1\" class=\"dataframe\">\n",
              "  <thead>\n",
              "    <tr style=\"text-align: right;\">\n",
              "      <th></th>\n",
              "      <th>User_Id</th>\n",
              "      <th>Avg_user_rating</th>\n",
              "    </tr>\n",
              "  </thead>\n",
              "  <tbody>\n",
              "    <tr>\n",
              "      <th>0</th>\n",
              "      <td>923</td>\n",
              "      <td>4.473684</td>\n",
              "    </tr>\n",
              "  </tbody>\n",
              "</table>\n",
              "</div>"
            ],
            "text/plain": [
              "   User_Id  Avg_user_rating\n",
              "0      923         4.473684"
            ]
          },
          "metadata": {
            "tags": []
          },
          "execution_count": 56
        }
      ]
    },
    {
      "cell_type": "markdown",
      "metadata": {
        "id": "Xlm0u91fQVV9"
      },
      "source": [
        "3.3.1 Merging Average User Rating Column to \"yelp_load.csv\" file"
      ]
    },
    {
      "cell_type": "code",
      "metadata": {
        "colab": {
          "base_uri": "https://localhost:8080/",
          "height": 81
        },
        "id": "A9HKSmHjP7Nn",
        "outputId": "c8773354-0ff0-4b6b-833f-59df5bc7bfb8"
      },
      "source": [
        "yelp_load = yelp_load.merge(avg, left_on='User_Id', right_on='User_Id')\n",
        "yelp_load.head(1)"
      ],
      "execution_count": null,
      "outputs": [
        {
          "output_type": "execute_result",
          "data": {
            "text/html": [
              "<div>\n",
              "<style scoped>\n",
              "    .dataframe tbody tr th:only-of-type {\n",
              "        vertical-align: middle;\n",
              "    }\n",
              "\n",
              "    .dataframe tbody tr th {\n",
              "        vertical-align: top;\n",
              "    }\n",
              "\n",
              "    .dataframe thead th {\n",
              "        text-align: right;\n",
              "    }\n",
              "</style>\n",
              "<table border=\"1\" class=\"dataframe\">\n",
              "  <thead>\n",
              "    <tr style=\"text-align: right;\">\n",
              "      <th></th>\n",
              "      <th>User_Id</th>\n",
              "      <th>Prod_Id</th>\n",
              "      <th>Date_x</th>\n",
              "      <th>Review</th>\n",
              "      <th>Rating</th>\n",
              "      <th>Label</th>\n",
              "      <th>Product_Name</th>\n",
              "      <th>Avg_Prod_Rating</th>\n",
              "      <th>Avg_user_rating</th>\n",
              "    </tr>\n",
              "  </thead>\n",
              "  <tbody>\n",
              "    <tr>\n",
              "      <th>0</th>\n",
              "      <td>1133</td>\n",
              "      <td>1</td>\n",
              "      <td>2013-12-21</td>\n",
              "      <td>My wife and I took my parents there for lunch ...</td>\n",
              "      <td>1.0</td>\n",
              "      <td>-1</td>\n",
              "      <td>Peppino’s</td>\n",
              "      <td>4.328063</td>\n",
              "      <td>1.0</td>\n",
              "    </tr>\n",
              "  </tbody>\n",
              "</table>\n",
              "</div>"
            ],
            "text/plain": [
              "   User_Id  Prod_Id      Date_x  ... Product_Name  Avg_Prod_Rating  Avg_user_rating\n",
              "0     1133        1  2013-12-21  ...    Peppino’s         4.328063              1.0\n",
              "\n",
              "[1 rows x 9 columns]"
            ]
          },
          "metadata": {
            "tags": []
          },
          "execution_count": 57
        }
      ]
    },
    {
      "cell_type": "markdown",
      "metadata": {
        "id": "wgUpzYgaStaF"
      },
      "source": [
        "3.4 Calculating Length of Reviews"
      ]
    },
    {
      "cell_type": "code",
      "metadata": {
        "colab": {
          "base_uri": "https://localhost:8080/",
          "height": 81
        },
        "id": "H9eVdrgOSs-K",
        "outputId": "b86efb6e-94d8-4bf3-9258-2d856dfc66f7"
      },
      "source": [
        "yelp_load['Review_Len']= yelp_load['Review'].apply(len)\n",
        "yelp_load.head(1)"
      ],
      "execution_count": null,
      "outputs": [
        {
          "output_type": "execute_result",
          "data": {
            "text/html": [
              "<div>\n",
              "<style scoped>\n",
              "    .dataframe tbody tr th:only-of-type {\n",
              "        vertical-align: middle;\n",
              "    }\n",
              "\n",
              "    .dataframe tbody tr th {\n",
              "        vertical-align: top;\n",
              "    }\n",
              "\n",
              "    .dataframe thead th {\n",
              "        text-align: right;\n",
              "    }\n",
              "</style>\n",
              "<table border=\"1\" class=\"dataframe\">\n",
              "  <thead>\n",
              "    <tr style=\"text-align: right;\">\n",
              "      <th></th>\n",
              "      <th>User_Id</th>\n",
              "      <th>Prod_Id</th>\n",
              "      <th>Date_x</th>\n",
              "      <th>Review</th>\n",
              "      <th>Rating</th>\n",
              "      <th>Label</th>\n",
              "      <th>Product_Name</th>\n",
              "      <th>Avg_Prod_Rating</th>\n",
              "      <th>Avg_user_rating</th>\n",
              "      <th>Review_Len</th>\n",
              "    </tr>\n",
              "  </thead>\n",
              "  <tbody>\n",
              "    <tr>\n",
              "      <th>0</th>\n",
              "      <td>1133</td>\n",
              "      <td>1</td>\n",
              "      <td>2013-12-21</td>\n",
              "      <td>My wife and I took my parents there for lunch ...</td>\n",
              "      <td>1.0</td>\n",
              "      <td>-1</td>\n",
              "      <td>Peppino’s</td>\n",
              "      <td>4.328063</td>\n",
              "      <td>1.0</td>\n",
              "      <td>553</td>\n",
              "    </tr>\n",
              "  </tbody>\n",
              "</table>\n",
              "</div>"
            ],
            "text/plain": [
              "   User_Id  Prod_Id      Date_x  ... Avg_Prod_Rating  Avg_user_rating  Review_Len\n",
              "0     1133        1  2013-12-21  ...        4.328063              1.0         553\n",
              "\n",
              "[1 rows x 10 columns]"
            ]
          },
          "metadata": {
            "tags": []
          },
          "execution_count": 58
        }
      ]
    },
    {
      "cell_type": "markdown",
      "metadata": {
        "id": "2AtMCB_BQQ3T"
      },
      "source": [
        "3.5 Calculating total review given by a particular user"
      ]
    },
    {
      "cell_type": "code",
      "metadata": {
        "id": "OFTsqVXtQeMU"
      },
      "source": [
        "user_total_reviews = yelp_load.groupby('User_Id').count()['Label']\n",
        "user_total_reviews = user_total_reviews.to_frame()\n",
        "user_total_reviews.reset_index(level=0, inplace=True)\n",
        "user_total_reviews =  user_total_reviews.rename(columns={'Label':'user_total_reviews'})"
      ],
      "execution_count": null,
      "outputs": []
    },
    {
      "cell_type": "markdown",
      "metadata": {
        "id": "SnsXdrJmRid6"
      },
      "source": [
        "3.5.1 Merging the new coulmn to \"yelp_load.csv\" file"
      ]
    },
    {
      "cell_type": "code",
      "metadata": {
        "colab": {
          "base_uri": "https://localhost:8080/",
          "height": 98
        },
        "id": "f67NcJaLRHW0",
        "outputId": "6351cc9a-dedc-49ed-b14a-0d223ddb21ec"
      },
      "source": [
        "yelp_load = yelp_load.merge(user_total_reviews, how='outer')\n",
        "yelp_load.head(1)"
      ],
      "execution_count": null,
      "outputs": [
        {
          "output_type": "execute_result",
          "data": {
            "text/html": [
              "<div>\n",
              "<style scoped>\n",
              "    .dataframe tbody tr th:only-of-type {\n",
              "        vertical-align: middle;\n",
              "    }\n",
              "\n",
              "    .dataframe tbody tr th {\n",
              "        vertical-align: top;\n",
              "    }\n",
              "\n",
              "    .dataframe thead th {\n",
              "        text-align: right;\n",
              "    }\n",
              "</style>\n",
              "<table border=\"1\" class=\"dataframe\">\n",
              "  <thead>\n",
              "    <tr style=\"text-align: right;\">\n",
              "      <th></th>\n",
              "      <th>User_Id</th>\n",
              "      <th>Prod_Id</th>\n",
              "      <th>Date_x</th>\n",
              "      <th>Review</th>\n",
              "      <th>Rating</th>\n",
              "      <th>Label</th>\n",
              "      <th>Product_Name</th>\n",
              "      <th>Avg_Prod_Rating</th>\n",
              "      <th>Avg_user_rating</th>\n",
              "      <th>Review_Len</th>\n",
              "      <th>user_total_reviews</th>\n",
              "    </tr>\n",
              "  </thead>\n",
              "  <tbody>\n",
              "    <tr>\n",
              "      <th>0</th>\n",
              "      <td>1133</td>\n",
              "      <td>1</td>\n",
              "      <td>2013-12-21</td>\n",
              "      <td>My wife and I took my parents there for lunch ...</td>\n",
              "      <td>1.0</td>\n",
              "      <td>-1</td>\n",
              "      <td>Peppino’s</td>\n",
              "      <td>4.328063</td>\n",
              "      <td>1.0</td>\n",
              "      <td>553</td>\n",
              "      <td>1</td>\n",
              "    </tr>\n",
              "  </tbody>\n",
              "</table>\n",
              "</div>"
            ],
            "text/plain": [
              "   User_Id  Prod_Id  ... Review_Len user_total_reviews\n",
              "0     1133        1  ...        553                  1\n",
              "\n",
              "[1 rows x 11 columns]"
            ]
          },
          "metadata": {
            "tags": []
          },
          "execution_count": 60
        }
      ]
    },
    {
      "cell_type": "code",
      "metadata": {
        "colab": {
          "base_uri": "https://localhost:8080/",
          "height": 650
        },
        "id": "YfPGwNISR5U4",
        "outputId": "50533c7f-6c13-4df8-eaaa-e664c851a81b"
      },
      "source": [
        "yelp_load.dropna()"
      ],
      "execution_count": null,
      "outputs": [
        {
          "output_type": "execute_result",
          "data": {
            "text/html": [
              "<div>\n",
              "<style scoped>\n",
              "    .dataframe tbody tr th:only-of-type {\n",
              "        vertical-align: middle;\n",
              "    }\n",
              "\n",
              "    .dataframe tbody tr th {\n",
              "        vertical-align: top;\n",
              "    }\n",
              "\n",
              "    .dataframe thead th {\n",
              "        text-align: right;\n",
              "    }\n",
              "</style>\n",
              "<table border=\"1\" class=\"dataframe\">\n",
              "  <thead>\n",
              "    <tr style=\"text-align: right;\">\n",
              "      <th></th>\n",
              "      <th>User_Id</th>\n",
              "      <th>Prod_Id</th>\n",
              "      <th>Date_x</th>\n",
              "      <th>Review</th>\n",
              "      <th>Rating</th>\n",
              "      <th>Label</th>\n",
              "      <th>Product_Name</th>\n",
              "      <th>Avg_Prod_Rating</th>\n",
              "      <th>Avg_user_rating</th>\n",
              "      <th>Review_Len</th>\n",
              "      <th>user_total_reviews</th>\n",
              "    </tr>\n",
              "  </thead>\n",
              "  <tbody>\n",
              "    <tr>\n",
              "      <th>0</th>\n",
              "      <td>1133</td>\n",
              "      <td>1</td>\n",
              "      <td>2013-12-21</td>\n",
              "      <td>My wife and I took my parents there for lunch ...</td>\n",
              "      <td>1.0</td>\n",
              "      <td>-1</td>\n",
              "      <td>Peppino’s</td>\n",
              "      <td>4.328063</td>\n",
              "      <td>1.00</td>\n",
              "      <td>553</td>\n",
              "      <td>1</td>\n",
              "    </tr>\n",
              "    <tr>\n",
              "      <th>1</th>\n",
              "      <td>1134</td>\n",
              "      <td>1</td>\n",
              "      <td>2013-11-25</td>\n",
              "      <td>Got a margarita pizza. First off let me say ve...</td>\n",
              "      <td>1.0</td>\n",
              "      <td>-1</td>\n",
              "      <td>Peppino’s</td>\n",
              "      <td>4.328063</td>\n",
              "      <td>1.00</td>\n",
              "      <td>305</td>\n",
              "      <td>1</td>\n",
              "    </tr>\n",
              "    <tr>\n",
              "      <th>2</th>\n",
              "      <td>1135</td>\n",
              "      <td>1</td>\n",
              "      <td>2014-07-24</td>\n",
              "      <td>The food is average pizzeria and not cheap.  A...</td>\n",
              "      <td>2.0</td>\n",
              "      <td>-1</td>\n",
              "      <td>Peppino’s</td>\n",
              "      <td>4.328063</td>\n",
              "      <td>3.25</td>\n",
              "      <td>157</td>\n",
              "      <td>8</td>\n",
              "    </tr>\n",
              "    <tr>\n",
              "      <th>3</th>\n",
              "      <td>1135</td>\n",
              "      <td>524</td>\n",
              "      <td>2013-10-20</td>\n",
              "      <td>Recent visit was very good. The servers don't ...</td>\n",
              "      <td>4.0</td>\n",
              "      <td>-1</td>\n",
              "      <td>Mighty Quinn’s Barbeque</td>\n",
              "      <td>4.135281</td>\n",
              "      <td>3.25</td>\n",
              "      <td>434</td>\n",
              "      <td>8</td>\n",
              "    </tr>\n",
              "    <tr>\n",
              "      <th>4</th>\n",
              "      <td>1135</td>\n",
              "      <td>542</td>\n",
              "      <td>2013-08-15</td>\n",
              "      <td>Going good!</td>\n",
              "      <td>4.0</td>\n",
              "      <td>-1</td>\n",
              "      <td>Lombardi’s Pizza</td>\n",
              "      <td>3.944656</td>\n",
              "      <td>3.25</td>\n",
              "      <td>11</td>\n",
              "      <td>8</td>\n",
              "    </tr>\n",
              "    <tr>\n",
              "      <th>...</th>\n",
              "      <td>...</td>\n",
              "      <td>...</td>\n",
              "      <td>...</td>\n",
              "      <td>...</td>\n",
              "      <td>...</td>\n",
              "      <td>...</td>\n",
              "      <td>...</td>\n",
              "      <td>...</td>\n",
              "      <td>...</td>\n",
              "      <td>...</td>\n",
              "      <td>...</td>\n",
              "    </tr>\n",
              "    <tr>\n",
              "      <th>358742</th>\n",
              "      <td>161143</td>\n",
              "      <td>349</td>\n",
              "      <td>2014-02-19</td>\n",
              "      <td>get the fried brussel sprouts. get the emily p...</td>\n",
              "      <td>5.0</td>\n",
              "      <td>1</td>\n",
              "      <td>Emily</td>\n",
              "      <td>4.185185</td>\n",
              "      <td>5.00</td>\n",
              "      <td>329</td>\n",
              "      <td>1</td>\n",
              "    </tr>\n",
              "    <tr>\n",
              "      <th>358743</th>\n",
              "      <td>161144</td>\n",
              "      <td>349</td>\n",
              "      <td>2014-02-11</td>\n",
              "      <td>The food was perfect. The wine was perfect. Th...</td>\n",
              "      <td>5.0</td>\n",
              "      <td>1</td>\n",
              "      <td>Emily</td>\n",
              "      <td>4.185185</td>\n",
              "      <td>5.00</td>\n",
              "      <td>411</td>\n",
              "      <td>1</td>\n",
              "    </tr>\n",
              "    <tr>\n",
              "      <th>358744</th>\n",
              "      <td>161145</td>\n",
              "      <td>349</td>\n",
              "      <td>2014-02-09</td>\n",
              "      <td>Came here for Sunday brunch. Everything we tas...</td>\n",
              "      <td>5.0</td>\n",
              "      <td>1</td>\n",
              "      <td>Emily</td>\n",
              "      <td>4.185185</td>\n",
              "      <td>5.00</td>\n",
              "      <td>252</td>\n",
              "      <td>1</td>\n",
              "    </tr>\n",
              "    <tr>\n",
              "      <th>358745</th>\n",
              "      <td>161146</td>\n",
              "      <td>349</td>\n",
              "      <td>2014-02-06</td>\n",
              "      <td>I'm very spoiled with Pizza. Really, I have tr...</td>\n",
              "      <td>5.0</td>\n",
              "      <td>1</td>\n",
              "      <td>Emily</td>\n",
              "      <td>4.185185</td>\n",
              "      <td>5.00</td>\n",
              "      <td>1441</td>\n",
              "      <td>1</td>\n",
              "    </tr>\n",
              "    <tr>\n",
              "      <th>358746</th>\n",
              "      <td>161147</td>\n",
              "      <td>349</td>\n",
              "      <td>2014-01-30</td>\n",
              "      <td>Had a great dinner here- fantastic pizza, the ...</td>\n",
              "      <td>5.0</td>\n",
              "      <td>1</td>\n",
              "      <td>Emily</td>\n",
              "      <td>4.185185</td>\n",
              "      <td>5.00</td>\n",
              "      <td>268</td>\n",
              "      <td>1</td>\n",
              "    </tr>\n",
              "  </tbody>\n",
              "</table>\n",
              "<p>358747 rows × 11 columns</p>\n",
              "</div>"
            ],
            "text/plain": [
              "        User_Id  Prod_Id  ... Review_Len user_total_reviews\n",
              "0          1133        1  ...        553                  1\n",
              "1          1134        1  ...        305                  1\n",
              "2          1135        1  ...        157                  8\n",
              "3          1135      524  ...        434                  8\n",
              "4          1135      542  ...         11                  8\n",
              "...         ...      ...  ...        ...                ...\n",
              "358742   161143      349  ...        329                  1\n",
              "358743   161144      349  ...        411                  1\n",
              "358744   161145      349  ...        252                  1\n",
              "358745   161146      349  ...       1441                  1\n",
              "358746   161147      349  ...        268                  1\n",
              "\n",
              "[358747 rows x 11 columns]"
            ]
          },
          "metadata": {
            "tags": []
          },
          "execution_count": 61
        }
      ]
    },
    {
      "cell_type": "markdown",
      "metadata": {
        "id": "ORG3lJZWRsQ-"
      },
      "source": [
        "3.6 Extracting Sentiments from Reviews"
      ]
    },
    {
      "cell_type": "code",
      "metadata": {
        "id": "j1wGNfAHTWp9"
      },
      "source": [
        "def nltk_sentiment(sentence):\n",
        "    from nltk.sentiment.vader import SentimentIntensityAnalyzer\n",
        "    nltk_sentiment = SentimentIntensityAnalyzer()\n",
        "    score = nltk_sentiment.polarity_scores(sentence)\n",
        "    return score"
      ],
      "execution_count": null,
      "outputs": []
    },
    {
      "cell_type": "code",
      "metadata": {
        "id": "HYfvYVsyRtKu"
      },
      "source": [
        "review_sentiment=  yelp_load['Review']\n",
        "nltk_result = [nltk_sentiment(row) for row in review_sentiment]\n",
        "result = pd.DataFrame(nltk_result)"
      ],
      "execution_count": null,
      "outputs": []
    },
    {
      "cell_type": "markdown",
      "metadata": {
        "id": "hJf4pqk5T9Dm"
      },
      "source": [
        "3.6.1 Merging Sentiments with \"yelp_load.csv\" file"
      ]
    },
    {
      "cell_type": "code",
      "metadata": {
        "id": "Fk0SP8IoTexQ",
        "colab": {
          "base_uri": "https://localhost:8080/"
        },
        "outputId": "7bf4866a-4ee1-4261-e605-7d4ec6579fda"
      },
      "source": [
        "nltk_r = review_sentiment.to_frame().join(result)\n",
        "yelp_load = yelp_load.merge(nltk_r)\n",
        "yelp_load.head(1)"
      ],
      "execution_count": null,
      "outputs": [
        {
          "output_type": "execute_result",
          "data": {
            "text/html": [
              "<div>\n",
              "<style scoped>\n",
              "    .dataframe tbody tr th:only-of-type {\n",
              "        vertical-align: middle;\n",
              "    }\n",
              "\n",
              "    .dataframe tbody tr th {\n",
              "        vertical-align: top;\n",
              "    }\n",
              "\n",
              "    .dataframe thead th {\n",
              "        text-align: right;\n",
              "    }\n",
              "</style>\n",
              "<table border=\"1\" class=\"dataframe\">\n",
              "  <thead>\n",
              "    <tr style=\"text-align: right;\">\n",
              "      <th></th>\n",
              "      <th>User_Id</th>\n",
              "      <th>Prod_Id</th>\n",
              "      <th>Date_x</th>\n",
              "      <th>Review</th>\n",
              "      <th>Rating</th>\n",
              "      <th>Label</th>\n",
              "      <th>Product_Name</th>\n",
              "      <th>Avg_Prod_Rating</th>\n",
              "      <th>Avg_user_rating</th>\n",
              "      <th>Review_Len</th>\n",
              "      <th>user_total_reviews</th>\n",
              "      <th>neg</th>\n",
              "      <th>neu</th>\n",
              "      <th>pos</th>\n",
              "      <th>compound</th>\n",
              "    </tr>\n",
              "  </thead>\n",
              "  <tbody>\n",
              "    <tr>\n",
              "      <th>0</th>\n",
              "      <td>1133</td>\n",
              "      <td>1</td>\n",
              "      <td>2013-12-21</td>\n",
              "      <td>My wife and I took my parents there for lunch ...</td>\n",
              "      <td>1.0</td>\n",
              "      <td>-1</td>\n",
              "      <td>Peppino’s</td>\n",
              "      <td>4.328063</td>\n",
              "      <td>1.0</td>\n",
              "      <td>553</td>\n",
              "      <td>1</td>\n",
              "      <td>0.106</td>\n",
              "      <td>0.722</td>\n",
              "      <td>0.172</td>\n",
              "      <td>0.8431</td>\n",
              "    </tr>\n",
              "  </tbody>\n",
              "</table>\n",
              "</div>"
            ],
            "text/plain": [
              "   User_Id  Prod_Id      Date_x  ...    neu    pos  compound\n",
              "0     1133        1  2013-12-21  ...  0.722  0.172    0.8431\n",
              "\n",
              "[1 rows x 15 columns]"
            ]
          },
          "metadata": {
            "tags": []
          },
          "execution_count": 64
        }
      ]
    },
    {
      "cell_type": "markdown",
      "metadata": {
        "id": "P9wMjq_WUFmD"
      },
      "source": [
        "3.7 Count Regex Pattern from Review Column"
      ]
    },
    {
      "cell_type": "code",
      "metadata": {
        "id": "cT2tH0gdUUBA",
        "colab": {
          "base_uri": "https://localhost:8080/",
          "height": 248
        },
        "outputId": "ed70d658-b435-4a3c-d920-a710616b2c0c"
      },
      "source": [
        "def count_regex(pattern, row):\n",
        "  return len(re.findall(pattern, row))\n",
        "\n",
        "count_capital_words = yelp_load['Review'].apply(lambda x: count_regex(r'\\b[A-Z]{2,}\\b', x))\n",
        "yelp_load['number_Cap_Words'] = count_capital_words.to_frame();\n",
        "\n",
        "count_digit_words = yelp_load['Review'].apply(lambda x: count_regex(r'\\b[0-9]{2,}\\b', x))\n",
        "yelp_load['number_digit_Words'] = count_digit_words.to_frame();\n",
        "\n",
        "yelp_load.head(1)"
      ],
      "execution_count": null,
      "outputs": [
        {
          "output_type": "execute_result",
          "data": {
            "text/html": [
              "<div>\n",
              "<style scoped>\n",
              "    .dataframe tbody tr th:only-of-type {\n",
              "        vertical-align: middle;\n",
              "    }\n",
              "\n",
              "    .dataframe tbody tr th {\n",
              "        vertical-align: top;\n",
              "    }\n",
              "\n",
              "    .dataframe thead th {\n",
              "        text-align: right;\n",
              "    }\n",
              "</style>\n",
              "<table border=\"1\" class=\"dataframe\">\n",
              "  <thead>\n",
              "    <tr style=\"text-align: right;\">\n",
              "      <th></th>\n",
              "      <th>User_Id</th>\n",
              "      <th>Prod_Id</th>\n",
              "      <th>Date_x</th>\n",
              "      <th>Review</th>\n",
              "      <th>Rating</th>\n",
              "      <th>Label</th>\n",
              "      <th>Product_Name</th>\n",
              "      <th>Avg_Prod_Rating</th>\n",
              "      <th>Avg_user_rating</th>\n",
              "      <th>Review_Len</th>\n",
              "      <th>user_total_reviews</th>\n",
              "      <th>neg</th>\n",
              "      <th>neu</th>\n",
              "      <th>pos</th>\n",
              "      <th>compound</th>\n",
              "      <th>number_Cap_Words</th>\n",
              "      <th>number_digit_Words</th>\n",
              "    </tr>\n",
              "  </thead>\n",
              "  <tbody>\n",
              "    <tr>\n",
              "      <th>0</th>\n",
              "      <td>1133</td>\n",
              "      <td>1</td>\n",
              "      <td>2013-12-21</td>\n",
              "      <td>My wife and I took my parents there for lunch ...</td>\n",
              "      <td>1.0</td>\n",
              "      <td>-1</td>\n",
              "      <td>Peppino’s</td>\n",
              "      <td>4.328063</td>\n",
              "      <td>1.0</td>\n",
              "      <td>553</td>\n",
              "      <td>1</td>\n",
              "      <td>0.106</td>\n",
              "      <td>0.722</td>\n",
              "      <td>0.172</td>\n",
              "      <td>0.8431</td>\n",
              "      <td>0</td>\n",
              "      <td>0</td>\n",
              "    </tr>\n",
              "  </tbody>\n",
              "</table>\n",
              "</div>"
            ],
            "text/plain": [
              "   User_Id  Prod_Id      Date_x  ... compound  number_Cap_Words  number_digit_Words\n",
              "0     1133        1  2013-12-21  ...   0.8431                 0                   0\n",
              "\n",
              "[1 rows x 17 columns]"
            ]
          },
          "metadata": {
            "tags": []
          },
          "execution_count": 65
        }
      ]
    },
    {
      "cell_type": "markdown",
      "metadata": {
        "id": "W9G69jnyV1ef"
      },
      "source": [
        "3.8 Counting Noun Phrase in Review Column"
      ]
    },
    {
      "cell_type": "code",
      "metadata": {
        "id": "kBcbBlrEVz8W",
        "colab": {
          "base_uri": "https://localhost:8080/",
          "height": 248
        },
        "outputId": "8aa23fbf-b070-4d1a-a55c-7f1ee29be68d"
      },
      "source": [
        "def identify_noun_count(sentence):\n",
        "  blob = TextBlob(sentence)\n",
        "  return len(blob.noun_phrases)\n",
        "\n",
        "yelp_load['noun_count'] = yelp_load['Review'].apply(identify_noun_count)\n",
        "yelp_load.head(1)"
      ],
      "execution_count": null,
      "outputs": [
        {
          "output_type": "execute_result",
          "data": {
            "text/html": [
              "<div>\n",
              "<style scoped>\n",
              "    .dataframe tbody tr th:only-of-type {\n",
              "        vertical-align: middle;\n",
              "    }\n",
              "\n",
              "    .dataframe tbody tr th {\n",
              "        vertical-align: top;\n",
              "    }\n",
              "\n",
              "    .dataframe thead th {\n",
              "        text-align: right;\n",
              "    }\n",
              "</style>\n",
              "<table border=\"1\" class=\"dataframe\">\n",
              "  <thead>\n",
              "    <tr style=\"text-align: right;\">\n",
              "      <th></th>\n",
              "      <th>User_Id</th>\n",
              "      <th>Prod_Id</th>\n",
              "      <th>Date_x</th>\n",
              "      <th>Review</th>\n",
              "      <th>Rating</th>\n",
              "      <th>Label</th>\n",
              "      <th>Product_Name</th>\n",
              "      <th>Avg_Prod_Rating</th>\n",
              "      <th>Avg_user_rating</th>\n",
              "      <th>Review_Len</th>\n",
              "      <th>user_total_reviews</th>\n",
              "      <th>neg</th>\n",
              "      <th>neu</th>\n",
              "      <th>pos</th>\n",
              "      <th>compound</th>\n",
              "      <th>number_Cap_Words</th>\n",
              "      <th>number_digit_Words</th>\n",
              "      <th>noun_count</th>\n",
              "    </tr>\n",
              "  </thead>\n",
              "  <tbody>\n",
              "    <tr>\n",
              "      <th>0</th>\n",
              "      <td>1133</td>\n",
              "      <td>1</td>\n",
              "      <td>2013-12-21</td>\n",
              "      <td>My wife and I took my parents there for lunch ...</td>\n",
              "      <td>1.0</td>\n",
              "      <td>-1</td>\n",
              "      <td>Peppino’s</td>\n",
              "      <td>4.328063</td>\n",
              "      <td>1.0</td>\n",
              "      <td>553</td>\n",
              "      <td>1</td>\n",
              "      <td>0.106</td>\n",
              "      <td>0.722</td>\n",
              "      <td>0.172</td>\n",
              "      <td>0.8431</td>\n",
              "      <td>0</td>\n",
              "      <td>0</td>\n",
              "      <td>6</td>\n",
              "    </tr>\n",
              "  </tbody>\n",
              "</table>\n",
              "</div>"
            ],
            "text/plain": [
              "   User_Id  Prod_Id  ... number_digit_Words noun_count\n",
              "0     1133        1  ...                  0          6\n",
              "\n",
              "[1 rows x 18 columns]"
            ]
          },
          "metadata": {
            "tags": []
          },
          "execution_count": 66
        }
      ]
    },
    {
      "cell_type": "markdown",
      "metadata": {
        "id": "FZj-O9yFWNVP"
      },
      "source": [
        "3.9 Saving the \"yelp_load.csv\" file to drive"
      ]
    },
    {
      "cell_type": "code",
      "metadata": {
        "id": "ojhCh_zAWTXc"
      },
      "source": [
        "yelp_load.to_csv('yelp_load.csv')\n",
        "!cp yelp_load.csv \"drive/My Drive/\""
      ],
      "execution_count": null,
      "outputs": []
    },
    {
      "cell_type": "markdown",
      "metadata": {
        "id": "U7TbhX92eG01"
      },
      "source": [
        "**End of Feature Extraction**"
      ]
    }
  ]
}